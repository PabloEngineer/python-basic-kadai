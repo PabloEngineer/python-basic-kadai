{
  "cells": [
    {
      "cell_type": "code",
      "execution_count": 9,
      "metadata": {
        "colab": {
          "base_uri": "https://localhost:8080/"
        },
        "id": "ezutBbPjV86L",
        "outputId": "c6d50cf5-8b76-46a2-d995-82c9fc884349"
      },
      "outputs": [
        {
          "name": "stdout",
          "output_type": "stream",
          "text": [
            "侍太郎 is an adult.\n",
            "侍一郎 is not an adult.\n",
            "侍二郎 is an adult.\n",
            "侍三郎 is not an adult.\n"
          ]
        }
      ],
      "source": [
        "class Human:\n",
        "  def __init__(self,name,age):\n",
        "    self.name=name\n",
        "    self.age=age\n",
        "\n",
        "  def check_adult(self):\n",
        "    if self.age>=20:\n",
        "      return f\"{self.name} is an adult.\"\n",
        "\n",
        "    else:\n",
        "      return f\"{self.name} is not an adult.\"\n",
        "\n",
        "humans=[\n",
        "    Human(\"侍太郎\", 22),\n",
        "    Human(\"侍一郎\", 17),\n",
        "    Human(\"侍二郎\", 25),\n",
        "    Human(\"侍三郎\", 19)\n",
        "]\n",
        "\n",
        "for Human in humans:\n",
        "  print(Human.check_adult())\n"
      ]
    }
  ],
  "metadata": {
    "colab": {
      "provenance": []
    },
    "kernelspec": {
      "display_name": "Python 3",
      "name": "python3"
    },
    "language_info": {
      "name": "python"
    }
  },
  "nbformat": 4,
  "nbformat_minor": 0
}
