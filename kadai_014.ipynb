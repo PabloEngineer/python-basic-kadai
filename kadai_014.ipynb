{
  "cells": [
    {
      "cell_type": "code",
      "execution_count": 2,
      "metadata": {
        "colab": {
          "base_uri": "https://localhost:8080/"
        },
        "id": "5ehx4WT2taal",
        "outputId": "ce00730a-5afd-42a1-a826-b685b40b8536"
      },
      "outputs": [
        {
          "name": "stdout",
          "output_type": "stream",
          "text": [
            "330.0\n"
          ]
        }
      ],
      "source": [
        "price1=100\n",
        "price2=200\n",
        "\n",
        "def total():\n",
        "  tax=1.1\n",
        "  return(price1+price2)*tax\n",
        "\n",
        "print(total())"
      ]
    }
  ],
  "metadata": {
    "colab": {
      "provenance": []
    },
    "kernelspec": {
      "display_name": "Python 3",
      "name": "python3"
    },
    "language_info": {
      "name": "python"
    }
  },
  "nbformat": 4,
  "nbformat_minor": 0
}
