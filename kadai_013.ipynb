{
  "cells": [
    {
      "cell_type": "code",
      "execution_count": 1,
      "metadata": {
        "colab": {
          "base_uri": "https://localhost:8080/"
        },
        "id": "Kr6rynlSQnb5",
        "outputId": "138cda16-56cc-4817-bfda-363873d0b722"
      },
      "outputs": [
        {
          "name": "stdout",
          "output_type": "stream",
          "text": [
            "110円\n"
          ]
        }
      ],
      "source": [
        "def price_tax(price,tax):\n",
        "\n",
        "  total=price+tax\n",
        "  print(f\"{total}円\")\n",
        "\n",
        "price_tax(100,10)"
      ]
    }
  ],
  "metadata": {
    "colab": {
      "provenance": []
    },
    "kernelspec": {
      "display_name": "Python 3",
      "name": "python3"
    },
    "language_info": {
      "name": "python"
    }
  },
  "nbformat": 4,
  "nbformat_minor": 0
}
