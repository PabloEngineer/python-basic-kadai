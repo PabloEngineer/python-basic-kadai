{
  "cells": [
    {
      "cell_type": "code",
      "execution_count": 27,
      "metadata": {
        "colab": {
          "base_uri": "https://localhost:8080/"
        },
        "id": "Kr6rynlSQnb5",
        "outputId": "865c22bc-85db-4b5f-9cf7-a007f7171197"
      },
      "outputs": [
        {
          "name": "stdout",
          "output_type": "stream",
          "text": [
            "110.00000000000001\n"
          ]
        }
      ],
      "source": [
        "def price_tax(price, tax_rate):\n",
        "\n",
        " tax=price*tax_rate\n",
        " return tax\n",
        "\n",
        "result=price_tax(100,1.1)\n",
        "print(result)\n",
        "\n"
      ]
    }
  ],
  "metadata": {
    "colab": {
      "provenance": []
    },
    "kernelspec": {
      "display_name": "Python 3",
      "name": "python3"
    },
    "language_info": {
      "name": "python"
    }
  },
  "nbformat": 4,
  "nbformat_minor": 0
}
