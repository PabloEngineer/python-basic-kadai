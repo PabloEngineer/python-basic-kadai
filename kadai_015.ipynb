{
  "cells": [
    {
      "cell_type": "code",
      "execution_count": 7,
      "metadata": {
        "colab": {
          "base_uri": "https://localhost:8080/"
        },
        "id": "8lqnkg9Qcy8C",
        "outputId": "20686272-34d7-4966-97d7-2464c6d7d582"
      },
      "outputs": [
        {
          "name": "stdout",
          "output_type": "stream",
          "text": [
            "Name:侍太郎,Age:30\n"
          ]
        }
      ],
      "source": [
        "class Human:\n",
        "\n",
        "  def __init__(self,name,age):\n",
        "    self.name=name\n",
        "    self.age=age\n",
        "\n",
        "  def set_printinfo(self):\n",
        "    print(f\"Name:{self.name},Age:{self.age}\")\n",
        "\n",
        "info=Human(\"侍太郎\",30)\n",
        "\n",
        "info.set_printinfo()\n",
        "\n"
      ]
    }
  ],
  "metadata": {
    "colab": {
      "provenance": []
    },
    "kernelspec": {
      "display_name": "Python 3",
      "name": "python3"
    },
    "language_info": {
      "name": "python"
    }
  },
  "nbformat": 4,
  "nbformat_minor": 0
}
