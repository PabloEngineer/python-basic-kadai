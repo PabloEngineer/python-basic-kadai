{
  "cells": [
    {
      "cell_type": "code",
      "execution_count": 5,
      "metadata": {
        "colab": {
          "base_uri": "https://localhost:8080/"
        },
        "id": "brObzOxD5j-W",
        "outputId": "b091d66b-734b-449c-c08b-0e4a4c25cd2e"
      },
      "outputs": [
        {
          "name": "stdout",
          "output_type": "stream",
          "text": [
            "侍一郎\n",
            "['侍太郎', '侍一郎', '侍三郎', '侍四郎']\n"
          ]
        }
      ],
      "source": [
        "user_names = [\"侍太郎\",\"侍一郎\",\"侍二郎\",\"侍三郎\",\"侍四郎\"]\n",
        "print(user_names[1])\n",
        "\n",
        "user_names.pop(2)\n",
        "print(user_names)\n"
      ]
    },
    {
      "cell_type": "code",
      "execution_count": 10,
      "metadata": {
        "colab": {
          "base_uri": "https://localhost:8080/"
        },
        "id": "JkmGW6Bw_kAF",
        "outputId": "9190e799-ce76-4811-f602-1de84ae4f067"
      },
      "outputs": [
        {
          "name": "stdout",
          "output_type": "stream",
          "text": [
            "{'イギリス', 'アメリカ', 'フランス', '日本'}\n"
          ]
        }
      ],
      "source": [
        "country_names = {\"日本\",\"アメリカ\",\"イギリス\",\"フランス\"}\n",
        "print(country_names)\n",
        "\n"
      ]
    },
    {
      "cell_type": "code",
      "execution_count": 11,
      "metadata": {
        "colab": {
          "base_uri": "https://localhost:8080/"
        },
        "id": "idqTekKRDnoe",
        "outputId": "5fdce9a0-b812-480a-cded-a02b077449cf"
      },
      "outputs": [
        {
          "name": "stdout",
          "output_type": "stream",
          "text": [
            "{2, 3, 5, 7}\n",
            "{2, 3, 5, 7, 11}\n",
            "{2, 5, 7, 11}\n"
          ]
        }
      ],
      "source": [
        "prime_numbers={2,3,5,7}\n",
        "print(prime_numbers)\n",
        "\n",
        "prime_numbers.add(11)\n",
        "print(prime_numbers)\n",
        "\n",
        "prime_numbers.remove(3)\n",
        "print(prime_numbers)\n"
      ]
    },
    {
      "cell_type": "code",
      "execution_count": 13,
      "metadata": {
        "colab": {
          "base_uri": "https://localhost:8080/"
        },
        "id": "t_2F11YmUNAm",
        "outputId": "7384d6bc-591e-4d24-d472-34f3a4df3e51"
      },
      "outputs": [
        {
          "name": "stdout",
          "output_type": "stream",
          "text": [
            "水曜日は晴れです\n",
            "晴れ\n"
          ]
        }
      ],
      "source": [
        "array=[\"月曜日は晴れです\",\"火曜日は雨です\",\"水曜日は晴れです\",\"木曜日は晴れです\",\"金曜日は曇りです\",\"土曜日は曇りのち雨です\",\"日曜日は雷雨です\"]\n",
        "dictionary={\"mon\":\"晴れ\",\"tue\":\"雨\",\"wed\":\"晴れ\",\"thu\":\"晴れ\",\"fri\":\"曇り\",\"sat\":\"曇りのち雨\",\"sun\":\"雷雨\"}\n",
        "print(array[2])\n",
        "print(dictionary[\"wed\"])"
      ]
    }
  ],
  "metadata": {
    "colab": {
      "provenance": []
    },
    "kernelspec": {
      "display_name": "Python 3",
      "name": "python3"
    },
    "language_info": {
      "name": "python"
    }
  },
  "nbformat": 4,
  "nbformat_minor": 0
}
