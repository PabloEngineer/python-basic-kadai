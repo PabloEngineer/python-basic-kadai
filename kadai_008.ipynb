{
  "cells": [
    {
      "cell_type": "code",
      "execution_count": 127,
      "metadata": {
        "colab": {
          "base_uri": "https://localhost:8080/"
        },
        "id": "nXlrf1offPDo",
        "outputId": "76ac0f04-483b-42a4-efa5-0b227b4ef924"
      },
      "outputs": [
        {
          "name": "stdout",
          "output_type": "stream",
          "text": [
            "FizzBuzz\n"
          ]
        }
      ],
      "source": [
        "import random\n",
        "\n",
        "num=random.randint(0,100)\n",
        "\n",
        "if num %3 == 0 and num %5 == 0:\n",
        "  print(\"FizzBuzz\")\n",
        "\n",
        "elif num %3 == 0:\n",
        "  print(\"Fizz\")\n",
        "\n",
        "elif num %5 == 0:\n",
        "  print (\"Buzz\")\n",
        "\n",
        "else:\n",
        "  print(num)"
      ]
    }
  ],
  "metadata": {
    "colab": {
      "provenance": []
    },
    "kernelspec": {
      "display_name": "Python 3",
      "name": "python3"
    },
    "language_info": {
      "name": "python"
    }
  },
  "nbformat": 4,
  "nbformat_minor": 0
}
