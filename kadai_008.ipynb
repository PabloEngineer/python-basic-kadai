{
  "cells": [
    {
      "cell_type": "code",
      "execution_count": 73,
      "metadata": {
        "colab": {
          "base_uri": "https://localhost:8080/"
        },
        "id": "nXlrf1offPDo",
        "outputId": "2f13b833-1525-44e9-9b03-c52544ce16cc"
      },
      "outputs": [
        {
          "name": "stdout",
          "output_type": "stream",
          "text": [
            "44\n"
          ]
        }
      ],
      "source": [
        "import random\n",
        "\n",
        "num=random.randint(0,100)\n",
        "\n",
        "if num %3 == 0:\n",
        "    print(\"Fizz\")\n",
        "\n",
        "elif num %5 == 0:\n",
        "  print(\"Buzz\")\n",
        "\n",
        "elif num %3 == 0 and num %5 == 0:\n",
        "  print (\"FizzBuzz\")\n",
        "\n",
        "else:\n",
        "  print(num)"
      ]
    }
  ],
  "metadata": {
    "colab": {
      "provenance": []
    },
    "kernelspec": {
      "display_name": "Python 3",
      "name": "python3"
    },
    "language_info": {
      "name": "python"
    }
  },
  "nbformat": 4,
  "nbformat_minor": 0
}
