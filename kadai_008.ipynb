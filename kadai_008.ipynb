{
  "cells": [
    {
      "cell_type": "code",
      "execution_count": 39,
      "metadata": {
        "colab": {
          "base_uri": "https://localhost:8080/"
        },
        "id": "nXlrf1offPDo",
        "outputId": "87df964c-920c-4ee4-e124-d391a48c13ab"
      },
      "outputs": [
        {
          "name": "stdout",
          "output_type": "stream",
          "text": [
            "FizzBuzz\n"
          ]
        }
      ],
      "source": [
        "import random\n",
        "\n",
        "num=random.randint(0,15)\n",
        "\n",
        "if num == 3 or num == 6 or num == 9 or num == 12:\n",
        "    print(\"Fizz\")\n",
        "\n",
        "elif num == 5 or num == 10:\n",
        "  print(\"Buzz\")\n",
        "\n",
        "elif num == (15):\n",
        "  print (\"FizzBuzz\")\n",
        "\n",
        "else:\n",
        "  print(num)"
      ]
    }
  ],
  "metadata": {
    "colab": {
      "provenance": []
    },
    "kernelspec": {
      "display_name": "Python 3",
      "name": "python3"
    },
    "language_info": {
      "name": "python"
    }
  },
  "nbformat": 4,
  "nbformat_minor": 0
}
